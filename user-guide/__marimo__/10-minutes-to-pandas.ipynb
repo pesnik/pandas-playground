{
 "cells": [
  {
   "cell_type": "code",
   "execution_count": null,
   "id": "Hbol",
   "metadata": {},
   "outputs": [],
   "source": [
    "import marimo as mo"
   ]
  },
  {
   "cell_type": "markdown",
   "id": "MJUe",
   "metadata": {
    "marimo": {
     "config": {
      "hide_code": true
     }
    }
   },
   "source": [
    "### Basic Data Structure in Pandas"
   ]
  },
  {
   "cell_type": "code",
   "execution_count": null,
   "id": "vblA",
   "metadata": {},
   "outputs": [
    {
     "name": "stdout",
     "output_type": "stream",
     "text": [
      "0        1\n",
      "1     None\n",
      "2        2\n",
      "3    hello\n",
      "dtype: object\n",
      "a    1\n",
      "b    2\n",
      "c    3\n",
      "dtype: int64\n"
     ]
    }
   ],
   "source": [
    "import pandas as pd\n",
    "\n",
    "# Series\n",
    "print(pd.Series([1, None, 2, 'hello']))\n",
    "print(pd.Series([1, 2, 3], index=['a', 'b', 'c']))"
   ]
  },
  {
   "cell_type": "code",
   "execution_count": null,
   "id": "bkHC",
   "metadata": {},
   "outputs": [
    {
     "name": "stdout",
     "output_type": "stream",
     "text": [
      "<class 'pandas.core.series.Series'>\n",
      "0          1\n",
      "1       None\n",
      "2       True\n",
      "3    message\n",
      "dtype: object\n",
      "         0\n",
      "0        1\n",
      "1     None\n",
      "2     True\n",
      "3  message\n",
      "<class 'pandas.core.frame.DataFrame'>\n"
     ]
    }
   ],
   "source": [
    "# Dataframe\n",
    "messy_series = pd.Series([1, None, True, \"message\"])\n",
    "print(type(messy_series))\n",
    "\n",
    "print(messy_series)\n",
    "\n",
    "messy_df = messy_series.to_frame()\n",
    "print(messy_df)\n",
    "print(type(messy_df))"
   ]
  },
  {
   "cell_type": "code",
   "execution_count": null,
   "id": "lEQa",
   "metadata": {},
   "outputs": [
    {
     "name": "stdout",
     "output_type": "stream",
     "text": [
      "Series\n",
      "1\n",
      "True\n",
      "True\n",
      "\n",
      "\n",
      "Dataframe\n",
      "0          1\n",
      "1       None\n",
      "2       True\n",
      "3    message\n",
      "Name: 0, dtype: object\n",
      "0    True\n",
      "Name: 2, dtype: object\n",
      "True\n"
     ]
    }
   ],
   "source": [
    "# Accessing Values [df vs series]\n",
    "print(\"Series\")\n",
    "print(messy_series[0])\n",
    "print(messy_series.iloc[2])\n",
    "print(messy_series.loc[2])\n",
    "\n",
    "print(\"\\n\")\n",
    "\n",
    "print(\"Dataframe\")\n",
    "print(messy_df[0])\n",
    "print(messy_df.loc[2])\n",
    "print(messy_df.loc[2, 0])"
   ]
  },
  {
   "cell_type": "code",
   "execution_count": null,
   "id": "PKri",
   "metadata": {},
   "outputs": [
    {
     "name": "stdout",
     "output_type": "stream",
     "text": [
      "   A  B  C\n",
      "0  1  4  7\n",
      "1  2  5  8\n",
      "2  3  6  9\n",
      "0    1\n",
      "1    2\n",
      "2    3\n",
      "Name: A, dtype: int64\n",
      "[1 2 3]\n",
      "   A  B  C\n",
      "0  1  4  7\n",
      "1  2  5  8\n",
      "   A  B  C\n",
      "x  1  4  7\n",
      "y  2  5  8\n",
      "z  3  6  9\n",
      "x    1\n",
      "y    2\n",
      "z    3\n",
      "Name: A, dtype: int64\n",
      "5\n",
      "5\n",
      "A    2\n",
      "B    5\n",
      "C    8\n",
      "Name: y, dtype: int64\n"
     ]
    }
   ],
   "source": [
    "# iloc vs loc\n",
    "table = pd.DataFrame({\n",
    "    'A': [1, 2, 3],\n",
    "    'B': [4, 5, 6],\n",
    "    'C': [7, 8, 9]\n",
    "})\n",
    "\n",
    "print(table)\n",
    "print(table['A'])\n",
    "print(table['A'].values)\n",
    "\n",
    "# print(table[0]) # KeyError: 0\n",
    "print(table.loc[0:1])\n",
    "\n",
    "indexex_table = pd.DataFrame({\n",
    "    'A': [1, 2, 3],\n",
    "    'B': [4, 5, 6],\n",
    "    'C': [7, 8, 9]\n",
    "}, index=['x', 'y', 'z'])\n",
    "print(indexex_table)\n",
    "\n",
    "print(indexex_table['A'])\n",
    "print(indexex_table.loc['y']['B'])\n",
    "print(indexex_table.loc['y', 'B'])\n",
    "print(indexex_table.iloc[1])\n",
    "\n",
    "\n",
    "# Use Case\t\n",
    "# [iloc] Positional access, programmatic loops\tLabel-based access\n",
    "# [loc] named indices\n",
    "\n",
    "indexex_table"
   ]
  },
  {
   "cell_type": "code",
   "execution_count": null,
   "id": "Xref",
   "metadata": {},
   "outputs": [
    {
     "data": {
      "text/html": [
       "<pre style='font-size: 12px'>DatetimeIndex([&#x27;2025-05-10&#x27;, &#x27;2025-05-11&#x27;, &#x27;2025-05-12&#x27;, &#x27;2025-05-13&#x27;,\n",
       "               &#x27;2025-05-14&#x27;, &#x27;2025-05-15&#x27;],\n",
       "              dtype=&#x27;datetime64[ns]&#x27;, freq=&#x27;D&#x27;)</pre>"
      ]
     },
     "metadata": {},
     "output_type": "display_data"
    }
   ],
   "source": [
    "# dataset builder\n",
    "dates = pd.date_range('20250510', periods=6)\n",
    "dates"
   ]
  },
  {
   "cell_type": "code",
   "execution_count": null,
   "id": "SFPL",
   "metadata": {},
   "outputs": [],
   "source": [
    "import numpy as np"
   ]
  },
  {
   "cell_type": "code",
   "execution_count": null,
   "id": "BYtC",
   "metadata": {},
   "outputs": [
    {
     "data": {
      "text/html": [
       "<marimo-ui-element object-id='Sxmb-0' random-id='7336ac10-7255-fc8d-609f-2d5a0887ed8a'><marimo-table data-initial-value='[]' data-label='null' data-data='&quot;[{&#92;&quot;&#92;&quot;:&#92;&quot;2025-05-10T00:00:00.000&#92;&quot;,&#92;&quot;A&#92;&quot;:0.2095749325,&#92;&quot;B&#92;&quot;:-1.564765182,&#92;&quot;C&#92;&quot;:1.2554667536,&#92;&quot;D&#92;&quot;:0.9989076902},{&#92;&quot;&#92;&quot;:&#92;&quot;2025-05-11T00:00:00.000&#92;&quot;,&#92;&quot;A&#92;&quot;:-1.968765455,&#92;&quot;B&#92;&quot;:1.1034716254,&#92;&quot;C&#92;&quot;:-0.9838010201,&#92;&quot;D&#92;&quot;:0.0363663611},{&#92;&quot;&#92;&quot;:&#92;&quot;2025-05-12T00:00:00.000&#92;&quot;,&#92;&quot;A&#92;&quot;:1.0281096158,&#92;&quot;B&#92;&quot;:-0.1002641656,&#92;&quot;C&#92;&quot;:-0.1221354537,&#92;&quot;D&#92;&quot;:0.133231308},{&#92;&quot;&#92;&quot;:&#92;&quot;2025-05-13T00:00:00.000&#92;&quot;,&#92;&quot;A&#92;&quot;:1.3602159496,&#92;&quot;B&#92;&quot;:-0.4806682382,&#92;&quot;C&#92;&quot;:1.1733598619,&#92;&quot;D&#92;&quot;:1.6421539085},{&#92;&quot;&#92;&quot;:&#92;&quot;2025-05-14T00:00:00.000&#92;&quot;,&#92;&quot;A&#92;&quot;:0.8250901097,&#92;&quot;B&#92;&quot;:-0.583825037,&#92;&quot;C&#92;&quot;:0.1227196841,&#92;&quot;D&#92;&quot;:-0.5893872555},{&#92;&quot;&#92;&quot;:&#92;&quot;2025-05-15T00:00:00.000&#92;&quot;,&#92;&quot;A&#92;&quot;:-0.3689590068,&#92;&quot;B&#92;&quot;:0.9306071378,&#92;&quot;C&#92;&quot;:-0.3174765443,&#92;&quot;D&#92;&quot;:-0.9716788302}]&quot;' data-total-rows='6' data-total-columns='4' data-banner-text='&quot;&quot;' data-pagination='true' data-page-size='10' data-field-types='[[&quot;A&quot;, [&quot;number&quot;, &quot;float64&quot;]], [&quot;B&quot;, [&quot;number&quot;, &quot;float64&quot;]], [&quot;C&quot;, [&quot;number&quot;, &quot;float64&quot;]], [&quot;D&quot;, [&quot;number&quot;, &quot;float64&quot;]]]' data-show-filters='true' data-show-download='true' data-show-column-summaries='false' data-row-headers='[&quot;&quot;]' data-has-stable-row-id='false' data-lazy='false' data-preload='false'></marimo-table></marimo-ui-element>"
      ]
     },
     "metadata": {},
     "output_type": "display_data"
    }
   ],
   "source": [
    "date_indexed_df = pd.DataFrame(np.random.randn(6, 4), index=dates, columns=list(\"ABCD\"))\n",
    "date_indexed_df"
   ]
  },
  {
   "cell_type": "markdown",
   "id": "RGSE",
   "metadata": {
    "marimo": {
     "config": {
      "hide_code": true
     }
    }
   },
   "source": [
    "#### Viewing Dataframe"
   ]
  },
  {
   "cell_type": "code",
   "execution_count": null,
   "id": "Kclp",
   "metadata": {},
   "outputs": [
    {
     "data": {
      "text/html": [
       "<marimo-ui-element object-id='HQap-0' random-id='f485ad48-8abd-6442-3e13-eb96f8e70c53'><marimo-table data-initial-value='[]' data-label='null' data-data='&quot;[{&#92;&quot;&#92;&quot;:&#92;&quot;Apple&#92;&quot;,&#92;&quot;Mirpur 1&#92;&quot;:150,&#92;&quot;Swopno&#92;&quot;:152},{&#92;&quot;&#92;&quot;:&#92;&quot;Banana&#92;&quot;,&#92;&quot;Mirpur 1&#92;&quot;:50,&#92;&quot;Swopno&#92;&quot;:60},{&#92;&quot;&#92;&quot;:&#92;&quot;Jackfruit&#92;&quot;,&#92;&quot;Mirpur 1&#92;&quot;:230,&#92;&quot;Swopno&#92;&quot;:250},{&#92;&quot;&#92;&quot;:&#92;&quot;Lichi&#92;&quot;,&#92;&quot;Mirpur 1&#92;&quot;:200,&#92;&quot;Swopno&#92;&quot;:180}]&quot;' data-total-rows='4' data-total-columns='2' data-banner-text='&quot;&quot;' data-pagination='true' data-page-size='10' data-field-types='[[&quot;Mirpur 1&quot;, [&quot;integer&quot;, &quot;int64&quot;]], [&quot;Swopno&quot;, [&quot;integer&quot;, &quot;int64&quot;]]]' data-show-filters='true' data-show-download='true' data-show-column-summaries='false' data-row-headers='[&quot;&quot;]' data-has-stable-row-id='false' data-lazy='false' data-preload='false'></marimo-table></marimo-ui-element>"
      ]
     },
     "metadata": {},
     "output_type": "display_data"
    }
   ],
   "source": [
    "fruits = ['Apple', 'Banana', 'Jackfruit', 'Lichi']\n",
    "price_list = {\n",
    "    'Mirpur 1' : [150, 50, 230, 200],\n",
    "    'Swopno': [152, 60, 250, 180]\n",
    "}\n",
    "\n",
    "fruit_table = pd.DataFrame(price_list, index=fruits)\n",
    "fruit_table"
   ]
  },
  {
   "cell_type": "code",
   "execution_count": null,
   "id": "emfo",
   "metadata": {},
   "outputs": [
    {
     "data": {
      "text/html": [
       "<marimo-ui-element object-id='EZSH-0' random-id='3dd0d746-4b6c-1f8b-0869-0b1a055dc9e0'><marimo-table data-initial-value='[]' data-label='null' data-data='&quot;[{&#92;&quot;&#92;&quot;:&#92;&quot;Lichi&#92;&quot;,&#92;&quot;Mirpur 1&#92;&quot;:200,&#92;&quot;Swopno&#92;&quot;:180}]&quot;' data-total-rows='1' data-total-columns='2' data-banner-text='&quot;&quot;' data-pagination='true' data-page-size='10' data-field-types='[[&quot;Mirpur 1&quot;, [&quot;integer&quot;, &quot;int64&quot;]], [&quot;Swopno&quot;, [&quot;integer&quot;, &quot;int64&quot;]]]' data-show-filters='true' data-show-download='true' data-show-column-summaries='false' data-row-headers='[&quot;&quot;]' data-has-stable-row-id='false' data-lazy='false' data-preload='false'></marimo-table></marimo-ui-element>"
      ]
     },
     "metadata": {},
     "output_type": "display_data"
    }
   ],
   "source": [
    "fruit_table.tail(1)"
   ]
  },
  {
   "cell_type": "code",
   "execution_count": null,
   "id": "Hstk",
   "metadata": {},
   "outputs": [
    {
     "data": {
      "text/html": [
       "<marimo-ui-element object-id='Ptcd-0' random-id='a8737619-0083-a3ee-0d94-7c802a140af2'><marimo-table data-initial-value='[]' data-label='null' data-data='&quot;[{&#92;&quot;&#92;&quot;:&#92;&quot;Apple&#92;&quot;,&#92;&quot;Mirpur 1&#92;&quot;:150,&#92;&quot;Swopno&#92;&quot;:152},{&#92;&quot;&#92;&quot;:&#92;&quot;Banana&#92;&quot;,&#92;&quot;Mirpur 1&#92;&quot;:50,&#92;&quot;Swopno&#92;&quot;:60}]&quot;' data-total-rows='2' data-total-columns='2' data-banner-text='&quot;&quot;' data-pagination='true' data-page-size='10' data-field-types='[[&quot;Mirpur 1&quot;, [&quot;integer&quot;, &quot;int64&quot;]], [&quot;Swopno&quot;, [&quot;integer&quot;, &quot;int64&quot;]]]' data-show-filters='true' data-show-download='true' data-show-column-summaries='false' data-row-headers='[&quot;&quot;]' data-has-stable-row-id='false' data-lazy='false' data-preload='false'></marimo-table></marimo-ui-element>"
      ]
     },
     "metadata": {},
     "output_type": "display_data"
    }
   ],
   "source": [
    "fruit_table.head(2)"
   ]
  },
  {
   "cell_type": "code",
   "execution_count": null,
   "id": "nWHF",
   "metadata": {},
   "outputs": [
    {
     "name": "stdout",
     "output_type": "stream",
     "text": [
      "Index(['Apple', 'Banana', 'Jackfruit', 'Lichi'], dtype='object')\n",
      "Index(['Mirpur 1', 'Swopno'], dtype='object')\n"
     ]
    }
   ],
   "source": [
    "print(fruit_table.index)\n",
    "\n",
    "print(fruit_table.columns)"
   ]
  },
  {
   "cell_type": "code",
   "execution_count": null,
   "id": "iLit",
   "metadata": {},
   "outputs": [
    {
     "data": {
      "text/html": [
       "<marimo-ui-element object-id='arox-0' random-id='411f4a1a-c820-8d41-6573-b9258a1eedf4'><marimo-table data-initial-value='[]' data-label='null' data-data='&quot;[{&#92;&quot;&#92;&quot;:&#92;&quot;count&#92;&quot;,&#92;&quot;Mirpur 1&#92;&quot;:4.0,&#92;&quot;Swopno&#92;&quot;:4.0},{&#92;&quot;&#92;&quot;:&#92;&quot;mean&#92;&quot;,&#92;&quot;Mirpur 1&#92;&quot;:157.5,&#92;&quot;Swopno&#92;&quot;:160.5},{&#92;&quot;&#92;&quot;:&#92;&quot;std&#92;&quot;,&#92;&quot;Mirpur 1&#92;&quot;:78.8986691903,&#92;&quot;Swopno&#92;&quot;:78.6617230085},{&#92;&quot;&#92;&quot;:&#92;&quot;min&#92;&quot;,&#92;&quot;Mirpur 1&#92;&quot;:50.0,&#92;&quot;Swopno&#92;&quot;:60.0},{&#92;&quot;&#92;&quot;:&#92;&quot;25%&#92;&quot;,&#92;&quot;Mirpur 1&#92;&quot;:125.0,&#92;&quot;Swopno&#92;&quot;:129.0},{&#92;&quot;&#92;&quot;:&#92;&quot;50%&#92;&quot;,&#92;&quot;Mirpur 1&#92;&quot;:175.0,&#92;&quot;Swopno&#92;&quot;:166.0},{&#92;&quot;&#92;&quot;:&#92;&quot;75%&#92;&quot;,&#92;&quot;Mirpur 1&#92;&quot;:207.5,&#92;&quot;Swopno&#92;&quot;:197.5},{&#92;&quot;&#92;&quot;:&#92;&quot;max&#92;&quot;,&#92;&quot;Mirpur 1&#92;&quot;:230.0,&#92;&quot;Swopno&#92;&quot;:250.0}]&quot;' data-total-rows='8' data-total-columns='2' data-banner-text='&quot;&quot;' data-pagination='true' data-page-size='10' data-field-types='[[&quot;Mirpur 1&quot;, [&quot;number&quot;, &quot;float64&quot;]], [&quot;Swopno&quot;, [&quot;number&quot;, &quot;float64&quot;]]]' data-show-filters='true' data-show-download='true' data-show-column-summaries='false' data-row-headers='[&quot;&quot;]' data-has-stable-row-id='false' data-lazy='false' data-preload='false'></marimo-table></marimo-ui-element>"
      ]
     },
     "metadata": {},
     "output_type": "display_data"
    }
   ],
   "source": [
    "fruit_table.describe()"
   ]
  },
  {
   "cell_type": "markdown",
   "id": "ZHCJ",
   "metadata": {
    "marimo": {
     "config": {
      "hide_code": true
     }
    }
   },
   "source": [
    "##### Axis"
   ]
  },
  {
   "cell_type": "code",
   "execution_count": null,
   "id": "ROlb",
   "metadata": {},
   "outputs": [
    {
     "data": {
      "text/html": [
       "<marimo-ui-element object-id='HwPM-0' random-id='76efe77d-280d-3536-908f-3aa2ed085670'><marimo-table data-initial-value='[]' data-label='null' data-data='&quot;[{&#92;&quot;&#92;&quot;:&#92;&quot;Mirpur 1&#92;&quot;,&#92;&quot;value&#92;&quot;:157.5},{&#92;&quot;&#92;&quot;:&#92;&quot;Swopno&#92;&quot;,&#92;&quot;value&#92;&quot;:160.5}]&quot;' data-total-rows='2' data-total-columns='1' data-banner-text='&quot;&quot;' data-pagination='true' data-page-size='10' data-field-types='[[&quot;value&quot;, [&quot;number&quot;, &quot;float64&quot;]]]' data-show-filters='true' data-show-download='true' data-show-column-summaries='false' data-row-headers='[&quot;&quot;]' data-has-stable-row-id='false' data-lazy='false' data-preload='false'></marimo-table></marimo-ui-element>"
      ]
     },
     "metadata": {},
     "output_type": "display_data"
    }
   ],
   "source": [
    "fruit_table.mean(axis=0)"
   ]
  },
  {
   "cell_type": "code",
   "execution_count": null,
   "id": "qnkX",
   "metadata": {},
   "outputs": [
    {
     "data": {
      "text/html": [
       "<marimo-ui-element object-id='VGJY-0' random-id='d19133cf-1d2c-b884-f852-b5e2698d5c0a'><marimo-table data-initial-value='[]' data-label='null' data-data='&quot;[{&#92;&quot;&#92;&quot;:&#92;&quot;Apple&#92;&quot;,&#92;&quot;value&#92;&quot;:151.0},{&#92;&quot;&#92;&quot;:&#92;&quot;Banana&#92;&quot;,&#92;&quot;value&#92;&quot;:55.0},{&#92;&quot;&#92;&quot;:&#92;&quot;Jackfruit&#92;&quot;,&#92;&quot;value&#92;&quot;:240.0},{&#92;&quot;&#92;&quot;:&#92;&quot;Lichi&#92;&quot;,&#92;&quot;value&#92;&quot;:190.0}]&quot;' data-total-rows='4' data-total-columns='1' data-banner-text='&quot;&quot;' data-pagination='true' data-page-size='10' data-field-types='[[&quot;value&quot;, [&quot;number&quot;, &quot;float64&quot;]]]' data-show-filters='true' data-show-download='true' data-show-column-summaries='false' data-row-headers='[&quot;&quot;]' data-has-stable-row-id='false' data-lazy='false' data-preload='false'></marimo-table></marimo-ui-element>"
      ]
     },
     "metadata": {},
     "output_type": "display_data"
    }
   ],
   "source": [
    "fruit_table.mean(axis=1)"
   ]
  },
  {
   "cell_type": "markdown",
   "id": "TqIu",
   "metadata": {
    "marimo": {
     "config": {
      "hide_code": true
     }
    }
   },
   "source": [
    "#### Boolean Indexing"
   ]
  },
  {
   "cell_type": "code",
   "execution_count": null,
   "id": "Vxnm",
   "metadata": {},
   "outputs": [
    {
     "data": {
      "text/html": [
       "<marimo-ui-element object-id='SWXU-0' random-id='544dfc2f-e943-1b21-e1d1-55e082880e95'><marimo-table data-initial-value='[]' data-label='null' data-data='&quot;[{&#92;&quot;&#92;&quot;:&#92;&quot;Apple&#92;&quot;,&#92;&quot;Mirpur 1&#92;&quot;:150,&#92;&quot;Swopno&#92;&quot;:152},{&#92;&quot;&#92;&quot;:&#92;&quot;Banana&#92;&quot;,&#92;&quot;Mirpur 1&#92;&quot;:50,&#92;&quot;Swopno&#92;&quot;:60},{&#92;&quot;&#92;&quot;:&#92;&quot;Jackfruit&#92;&quot;,&#92;&quot;Mirpur 1&#92;&quot;:230,&#92;&quot;Swopno&#92;&quot;:250}]&quot;' data-total-rows='3' data-total-columns='2' data-banner-text='&quot;&quot;' data-pagination='true' data-page-size='10' data-field-types='[[&quot;Mirpur 1&quot;, [&quot;integer&quot;, &quot;int64&quot;]], [&quot;Swopno&quot;, [&quot;integer&quot;, &quot;int64&quot;]]]' data-show-filters='true' data-show-download='true' data-show-column-summaries='false' data-row-headers='[&quot;&quot;]' data-has-stable-row-id='false' data-lazy='false' data-preload='false'></marimo-table></marimo-ui-element>"
      ]
     },
     "metadata": {},
     "output_type": "display_data"
    }
   ],
   "source": [
    "fruit_table[fruit_table['Mirpur 1'] < fruit_table['Swopno']]"
   ]
  },
  {
   "cell_type": "markdown",
   "id": "DnEU",
   "metadata": {
    "marimo": {
     "config": {
      "hide_code": true
     }
    }
   },
   "source": [
    "#### Setting"
   ]
  },
  {
   "cell_type": "code",
   "execution_count": null,
   "id": "ulZA",
   "metadata": {},
   "outputs": [
    {
     "data": {
      "text/html": [
       "<marimo-ui-element object-id='SGhK-0' random-id='f83a7eb4-7c45-4774-dcda-f95b82dd2b47'><marimo-table data-initial-value='[]' data-label='null' data-data='&quot;[{&#92;&quot;&#92;&quot;:&#92;&quot;2025-05-10T00:00:00.000&#92;&quot;,&#92;&quot;value&#92;&quot;:1},{&#92;&quot;&#92;&quot;:&#92;&quot;2025-05-11T00:00:00.000&#92;&quot;,&#92;&quot;value&#92;&quot;:2},{&#92;&quot;&#92;&quot;:&#92;&quot;2025-05-12T00:00:00.000&#92;&quot;,&#92;&quot;value&#92;&quot;:3},{&#92;&quot;&#92;&quot;:&#92;&quot;2025-05-13T00:00:00.000&#92;&quot;,&#92;&quot;value&#92;&quot;:3}]&quot;' data-total-rows='4' data-total-columns='1' data-banner-text='&quot;&quot;' data-pagination='true' data-page-size='10' data-field-types='[[&quot;value&quot;, [&quot;integer&quot;, &quot;int64&quot;]]]' data-show-filters='true' data-show-download='true' data-show-column-summaries='false' data-row-headers='[&quot;&quot;]' data-has-stable-row-id='false' data-lazy='false' data-preload='false'></marimo-table></marimo-ui-element>"
      ]
     },
     "metadata": {},
     "output_type": "display_data"
    }
   ],
   "source": [
    "s1 = pd.Series([1, 2, 3, 3], index=pd.date_range('20250510', periods=4))\n",
    "s1"
   ]
  },
  {
   "cell_type": "code",
   "execution_count": null,
   "id": "ecfG",
   "metadata": {},
   "outputs": [
    {
     "data": {
      "text/html": [
       "<marimo-ui-element object-id='nNRb-0' random-id='7bea132a-dff4-e193-2694-5bf5d5a888d6'><marimo-table data-initial-value='[]' data-label='null' data-data='&quot;[{&#92;&quot;&#92;&quot;:&#92;&quot;Apple&#92;&quot;,&#92;&quot;Mirpur 1&#92;&quot;:156,&#92;&quot;Swopno&#92;&quot;:152},{&#92;&quot;&#92;&quot;:&#92;&quot;Banana&#92;&quot;,&#92;&quot;Mirpur 1&#92;&quot;:50,&#92;&quot;Swopno&#92;&quot;:60},{&#92;&quot;&#92;&quot;:&#92;&quot;Jackfruit&#92;&quot;,&#92;&quot;Mirpur 1&#92;&quot;:230,&#92;&quot;Swopno&#92;&quot;:250},{&#92;&quot;&#92;&quot;:&#92;&quot;Lichi&#92;&quot;,&#92;&quot;Mirpur 1&#92;&quot;:200,&#92;&quot;Swopno&#92;&quot;:180}]&quot;' data-total-rows='4' data-total-columns='2' data-banner-text='&quot;&quot;' data-pagination='true' data-page-size='10' data-field-types='[[&quot;Mirpur 1&quot;, [&quot;integer&quot;, &quot;int64&quot;]], [&quot;Swopno&quot;, [&quot;integer&quot;, &quot;int64&quot;]]]' data-show-filters='true' data-show-download='true' data-show-column-summaries='false' data-row-headers='[&quot;&quot;]' data-has-stable-row-id='false' data-lazy='false' data-preload='false'></marimo-table></marimo-ui-element>"
      ]
     },
     "metadata": {},
     "output_type": "display_data"
    }
   ],
   "source": [
    "fruit_table.at['Apple', 'Mirpur 1'] = 156\n",
    "\n",
    "fruit_table.iloc[:4, 0:2]"
   ]
  },
  {
   "cell_type": "code",
   "execution_count": null,
   "id": "Pvdt",
   "metadata": {},
   "outputs": [
    {
     "data": {
      "text/html": [
       "<marimo-ui-element object-id='VKLn-0' random-id='ebf5c3bc-86c7-f960-ee91-0eb636c63a24'><marimo-table data-initial-value='[]' data-label='null' data-data='&quot;[{&#92;&quot;&#92;&quot;:&#92;&quot;Apple&#92;&quot;,&#92;&quot;Mirpur 1&#92;&quot;:156,&#92;&quot;Swopno&#92;&quot;:160},{&#92;&quot;&#92;&quot;:&#92;&quot;Banana&#92;&quot;,&#92;&quot;Mirpur 1&#92;&quot;:50,&#92;&quot;Swopno&#92;&quot;:60},{&#92;&quot;&#92;&quot;:&#92;&quot;Jackfruit&#92;&quot;,&#92;&quot;Mirpur 1&#92;&quot;:230,&#92;&quot;Swopno&#92;&quot;:250},{&#92;&quot;&#92;&quot;:&#92;&quot;Lichi&#92;&quot;,&#92;&quot;Mirpur 1&#92;&quot;:200,&#92;&quot;Swopno&#92;&quot;:180}]&quot;' data-total-rows='4' data-total-columns='2' data-banner-text='&quot;&quot;' data-pagination='true' data-page-size='10' data-field-types='[[&quot;Mirpur 1&quot;, [&quot;integer&quot;, &quot;int64&quot;]], [&quot;Swopno&quot;, [&quot;integer&quot;, &quot;int64&quot;]]]' data-show-filters='true' data-show-download='true' data-show-column-summaries='false' data-row-headers='[&quot;&quot;]' data-has-stable-row-id='false' data-lazy='false' data-preload='false'></marimo-table></marimo-ui-element>"
      ]
     },
     "metadata": {},
     "output_type": "display_data"
    }
   ],
   "source": [
    "fruit_table.iat[0, 1] = 160\n",
    "\n",
    "fruit_table"
   ]
  },
  {
   "cell_type": "markdown",
   "id": "ZBYS",
   "metadata": {
    "marimo": {
     "config": {
      "hide_code": true
     }
    }
   },
   "source": [
    "#### UDF"
   ]
  },
  {
   "cell_type": "code",
   "execution_count": null,
   "id": "aLJB",
   "metadata": {},
   "outputs": [
    {
     "name": "stdout",
     "output_type": "stream",
     "text": [
      "Apple        156\n",
      "Banana        50\n",
      "Jackfruit    230\n",
      "Lichi        200\n",
      "Name: Mirpur 1, dtype: int64\n",
      "Apple        160\n",
      "Banana        60\n",
      "Jackfruit    250\n",
      "Lichi        180\n",
      "Name: Swopno, dtype: int64\n"
     ]
    }
   ],
   "source": [
    "def udf(x):\n",
    "    print(x)\n",
    "    return x + x * .5\n",
    "\n",
    "fruit_table.agg(axis=0, func=udf)"
   ]
  },
  {
   "cell_type": "code",
   "execution_count": null,
   "id": "nHfw",
   "metadata": {},
   "outputs": [
    {
     "name": "stdout",
     "output_type": "stream",
     "text": [
      "Mirpur 1    156\n",
      "Swopno      160\n",
      "Name: Apple, dtype: int64\n",
      "Mirpur 1    50\n",
      "Swopno      60\n",
      "Name: Banana, dtype: int64\n",
      "Mirpur 1    230\n",
      "Swopno      250\n",
      "Name: Jackfruit, dtype: int64\n",
      "Mirpur 1    200\n",
      "Swopno      180\n",
      "Name: Lichi, dtype: int64\n"
     ]
    }
   ],
   "source": [
    "def for_mirpur_only(x):\n",
    "    print(x)\n",
    "    x['Mirpur 1'] = int(x['Swopno'] * .05 + x['Mirpur 1'])\n",
    "    return x\n",
    "\n",
    "fruit_table.agg(axis=1, func=for_mirpur_only)"
   ]
  },
  {
   "cell_type": "code",
   "execution_count": null,
   "id": "xXTn",
   "metadata": {},
   "outputs": [
    {
     "name": "stdout",
     "output_type": "stream",
     "text": [
      "           Mirpur 1  Swopno\n",
      "Apple           164     160\n",
      "Banana           53      60\n",
      "Jackfruit       242     250\n",
      "Lichi           209     180\n"
     ]
    }
   ],
   "source": [
    "print(fruit_table)\n",
    "fruit_table.transform(axis=1, func=lambda x: x * 1)"
   ]
  },
  {
   "cell_type": "markdown",
   "id": "AjVT",
   "metadata": {
    "marimo": {
     "config": {
      "hide_code": true
     }
    }
   },
   "source": [
    "#### String Methods"
   ]
  },
  {
   "cell_type": "code",
   "execution_count": null,
   "id": "pHFh",
   "metadata": {},
   "outputs": [
    {
     "data": {
      "text/html": [
       "<marimo-ui-element object-id='Yssd-0' random-id='bc45c4c3-3766-3657-4e4b-0c1328935918'><marimo-table data-initial-value='[]' data-label='null' data-data='&quot;[{&#92;&quot;value&#92;&quot;:&#92;&quot;apple&#92;&quot;},{&#92;&quot;value&#92;&quot;:&#92;&quot;samsung&#92;&quot;},{&#92;&quot;value&#92;&quot;:&#92;&quot;vivo&#92;&quot;}]&quot;' data-total-rows='3' data-total-columns='1' data-banner-text='&quot;&quot;' data-pagination='true' data-page-size='10' data-field-types='[[&quot;value&quot;, [&quot;string&quot;, &quot;object&quot;]]]' data-show-filters='true' data-show-download='true' data-show-column-summaries='false' data-row-headers='[]' data-has-stable-row-id='false' data-lazy='false' data-preload='false'></marimo-table></marimo-ui-element>"
      ]
     },
     "metadata": {},
     "output_type": "display_data"
    }
   ],
   "source": [
    "stringer = pd.Series([\"Apple\", \"Samsung\", \"Vivo\"])\n",
    "\n",
    "stringer.str.lower()"
   ]
  },
  {
   "cell_type": "markdown",
   "id": "NCOB",
   "metadata": {
    "marimo": {
     "config": {
      "hide_code": true
     }
    }
   },
   "source": [
    "#### Merge"
   ]
  },
  {
   "cell_type": "code",
   "execution_count": null,
   "id": "aqbW",
   "metadata": {},
   "outputs": [],
   "source": []
  },
  {
   "cell_type": "markdown",
   "id": "TRpd",
   "metadata": {
    "marimo": {
     "config": {
      "hide_code": true
     }
    }
   },
   "source": [
    "##### Pivot Table"
   ]
  },
  {
   "cell_type": "code",
   "execution_count": null,
   "id": "TXez",
   "metadata": {},
   "outputs": [],
   "source": []
  },
  {
   "cell_type": "markdown",
   "id": "dNNg",
   "metadata": {
    "marimo": {
     "config": {
      "hide_code": true
     }
    }
   },
   "source": [
    "##### Time Series"
   ]
  },
  {
   "cell_type": "code",
   "execution_count": null,
   "id": "yCnT",
   "metadata": {},
   "outputs": [],
   "source": []
  },
  {
   "cell_type": "markdown",
   "id": "wlCL",
   "metadata": {
    "marimo": {
     "config": {
      "hide_code": true
     }
    }
   },
   "source": [
    "##### Categorical"
   ]
  },
  {
   "cell_type": "code",
   "execution_count": null,
   "id": "kqZH",
   "metadata": {},
   "outputs": [],
   "source": []
  },
  {
   "cell_type": "markdown",
   "id": "wAgl",
   "metadata": {
    "marimo": {
     "config": {
      "hide_code": true
     }
    }
   },
   "source": [
    "##### Plotting"
   ]
  },
  {
   "cell_type": "code",
   "execution_count": null,
   "id": "rEll",
   "metadata": {},
   "outputs": [],
   "source": [
    "import matplotlib.pyplot as plt"
   ]
  },
  {
   "cell_type": "code",
   "execution_count": null,
   "id": "dGlV",
   "metadata": {},
   "outputs": [
    {
     "data": {
      "image/png": "[encoded data removed]"
     },
     "metadata": {},
     "output_type": "display_data"
    }
   ],
   "source": [
    "ts = pd.DataFrame(np.random.randn(1000), index=pd.date_range(\"2025/05/15\", periods=1000))\n",
    "ts.cumsum().plot()"
   ]
  },
  {
   "cell_type": "code",
   "execution_count": null,
   "id": "SdmI",
   "metadata": {},
   "outputs": [
    {
     "data": {
      "image/png": "[encoded data removed]"
     },
     "metadata": {},
     "output_type": "display_data"
    }
   ],
   "source": [
    "df = pd.DataFrame(\n",
    "    np.random.randn(1000, 4), index=ts.index, columns=[\"A\", \"B\", \"C\", \"D\"]\n",
    ")\n",
    "\n",
    "df = df.cumsum()\n",
    "\n",
    "# plt.figure();\n",
    "\n",
    "df.plot();\n",
    "\n",
    "plt.legend(loc='best');\n",
    "\n",
    "plt.show();"
   ]
  },
  {
   "cell_type": "markdown",
   "id": "lgWD",
   "metadata": {
    "marimo": {
     "config": {
      "hide_code": true
     }
    }
   },
   "source": [
    "#### Importing and exporting data"
   ]
  },
  {
   "cell_type": "code",
   "execution_count": null,
   "id": "yOPj",
   "metadata": {},
   "outputs": [],
   "source": [
    "# df.read_csv(\"loc\")\n",
    "# df.to_csv(\"loc\")\n",
    "# df.to_parquet(\"loc\")\n",
    "# df.read_parquet(\"\")\n",
    "# df.read_excel(\"loc\")\n",
    "# df.to_excel(\"\")"
   ]
  },
  {
   "cell_type": "markdown",
   "id": "fwwy",
   "metadata": {
    "marimo": {
     "config": {
      "hide_code": true
     }
    }
   },
   "source": [
    "#### Gotchas"
   ]
  }
 ],
 "metadata": {},
 "nbformat": 4,
 "nbformat_minor": 5
}
